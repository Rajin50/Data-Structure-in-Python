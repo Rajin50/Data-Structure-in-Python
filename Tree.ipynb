{
  "cells": [
    {
      "cell_type": "code",
      "execution_count": 28,
      "metadata": {
        "id": "D6vC520OPeTa"
      },
      "outputs": [],
      "source": [
        "class BTNode:\n",
        "  def __init__(self, elem):\n",
        "    self.elem = elem\n",
        "    self.right = None\n",
        "    self.left = None"
      ]
    },
    {
      "cell_type": "code",
      "execution_count": 29,
      "metadata": {
        "id": "UDTKlm4-PfNM"
      },
      "outputs": [],
      "source": [
        "def inorder(root):\n",
        "  if root == None:\n",
        "    return\n",
        "\n",
        "  inorder(root.left)\n",
        "  print(root.elem, end = ' ')\n",
        "  inorder(root.right)"
      ]
    },
    {
      "cell_type": "code",
      "execution_count": 30,
      "metadata": {
        "colab": {
          "base_uri": "https://localhost:8080/"
        },
        "id": "Rtc22SPzPgzM",
        "outputId": "8bdbe1bc-7951-4c44-f255-6daeb743785e"
      },
      "outputs": [
        {
          "output_type": "stream",
          "name": "stdout",
          "text": [
            "H D B E A I F J C G k "
          ]
        }
      ],
      "source": [
        "def tree_construction(arr, i = 1):\n",
        "  if i>=len(arr) or arr[i] == None:\n",
        "    return None\n",
        "  p = BTNode(arr[i])\n",
        "  p.left = tree_construction(arr, 2*i)\n",
        "  p.right = tree_construction(arr, 2*i+1)\n",
        "  return p\n",
        "\n",
        "\n",
        "root2 = tree_construction([None, 'A', 'B', 'C', 'D', 'E', 'F', 'G', 'H', None, None, None, 'I', 'J', None, 'k'])\n",
        "inorder(root2)"
      ]
    },
    {
      "cell_type": "markdown",
      "metadata": {
        "id": "S2nNCJNhPqGq"
      },
      "source": [
        "Task 1"
      ]
    },
    {
      "cell_type": "code",
      "execution_count": 31,
      "metadata": {
        "colab": {
          "base_uri": "https://localhost:8080/"
        },
        "id": "zbBHU3FoPieb",
        "outputId": "62e12de6-1132-4616-a2d9-1c04b21e3f92"
      },
      "outputs": [
        {
          "output_type": "stream",
          "name": "stdout",
          "text": [
            "Given Tree Inorder Traversal:  40 20 60 10 30 \n",
            "Mirrored Tree Inorder Traversal:  30 10 60 20 40 "
          ]
        }
      ],
      "source": [
        "def convert_mirror(root):\n",
        "  if root == None:\n",
        "    return\n",
        "  new_node = BTNode(root.elem)\n",
        "  right = convert_mirror(root.right)\n",
        "  new_node.left = right\n",
        "\n",
        "  left = convert_mirror(root.left)\n",
        "  new_node.right = left\n",
        "\n",
        "  return new_node\n",
        "\n",
        "#DRIVER CODE\n",
        "root = BTNode(10)\n",
        "n1 = BTNode(20)\n",
        "n2 = BTNode(30)\n",
        "n3 = BTNode(40)\n",
        "n4 = BTNode(60)\n",
        "\n",
        "root.left = n1\n",
        "root.right = n2\n",
        "\n",
        "n1.left = n3\n",
        "n1.right = n4\n",
        "\n",
        "print('Given Tree Inorder Traversal: ', end = ' ')\n",
        "inorder(root) #Given Tree Inorder Traversal:  40 20 60 10 30\n",
        "print()\n",
        "\n",
        "root2 = convert_mirror(root)\n",
        "print('Mirrored Tree Inorder Traversal: ', end = ' ')\n",
        "inorder(root2) #Mirrored Tree Inorder Traversal:  30 10 60 20 40"
      ]
    },
    {
      "cell_type": "markdown",
      "metadata": {
        "id": "c-TBf3m0PrtK"
      },
      "source": [
        "Task 2"
      ]
    },
    {
      "cell_type": "code",
      "execution_count": 32,
      "metadata": {
        "colab": {
          "base_uri": "https://localhost:8080/"
        },
        "id": "lsuxinlBPmji",
        "outputId": "95ada7a7-9671-445e-e6e0-9dc9962d1be6"
      },
      "outputs": [
        {
          "output_type": "stream",
          "name": "stdout",
          "text": [
            "Given Tree Inorder Traversal:  3 9 5 4 2 7 \n",
            "Level Wise Largest Value:  {0: 4, 1: 9, 2: 7}\n"
          ]
        }
      ],
      "source": [
        "def largest_level(root):\n",
        "  def finding_large_level(node, level, max):\n",
        "    if node == None:\n",
        "      return\n",
        "    if level not in max or node.elem > max[level]:\n",
        "      max[level] = node.elem\n",
        "\n",
        "    finding_large_level(node.left, level + 1, max)\n",
        "    finding_large_level(node.right, level + 1, max)\n",
        "\n",
        "  max = {}\n",
        "  finding_large_level(root, 0, max)\n",
        "  return max\n",
        "\n",
        "#DRIVER CODE\n",
        "root = tree_construction([None, 4,9,2,3,5,None,7])\n",
        "print('Given Tree Inorder Traversal: ', end = ' ')\n",
        "inorder(root) #Given Tree Inorder Traversal:  3 9 5 4 2 7\n",
        "print()\n",
        "print('Level Wise Largest Value: ', end = ' ')\n",
        "print(largest_level(root)) #Level Wise Largest Value:  {0: 4, 1: 9, 2: 7}"
      ]
    },
    {
      "cell_type": "markdown",
      "metadata": {
        "id": "7r3lH3aWPz2d"
      },
      "source": [
        "Task 3"
      ]
    },
    {
      "cell_type": "code",
      "execution_count": 34,
      "metadata": {
        "colab": {
          "base_uri": "https://localhost:8080/"
        },
        "id": "zFwP64v4Pu6d",
        "outputId": "25cc9d6b-42b8-4c70-bd57-40483a89a071"
      },
      "outputs": [
        {
          "output_type": "stream",
          "name": "stdout",
          "text": [
            "Given Tree Inorder Traversal:  4 8 10 12 14 20 22 \n",
            "Inorder successor of node 8: 10\n"
          ]
        }
      ],
      "source": [
        "def inorder_successor(root, x):\n",
        "  incomer = None\n",
        "  head = root\n",
        "\n",
        "  while head != None:\n",
        "    if head.elem > x.elem:\n",
        "      incomer = head\n",
        "      head = head.left\n",
        "    else:\n",
        "      head = head.right\n",
        "\n",
        "  return incomer\n",
        "\n",
        "#DRIVER CODE\n",
        "root = BTNode(20)\n",
        "n1 = BTNode(8)\n",
        "n2 = BTNode(22)\n",
        "n3 = BTNode(4)\n",
        "n4 = BTNode(12)\n",
        "n5 = BTNode(10)\n",
        "n6 = BTNode(14)\n",
        "\n",
        "root.left = n1\n",
        "root.right = n2\n",
        "\n",
        "n1.left = n3\n",
        "n1.right = n4\n",
        "\n",
        "n4.left = n5\n",
        "n4.right = n6\n",
        "\n",
        "print('Given Tree Inorder Traversal: ', end = ' ')\n",
        "inorder(root) #Given Tree Inorder Traversal:  4 8 10 12 14 20 22\n",
        "print()\n",
        "\n",
        "x = n1\n",
        "print(f'Inorder successor of node {x.elem}: {inorder_successor(root, x).elem}') #Inorder successor of node 8: 10"
      ]
    },
    {
      "cell_type": "markdown",
      "metadata": {
        "id": "t3IGW4OaP8Vy"
      },
      "source": [
        "Task 4"
      ]
    },
    {
      "cell_type": "code",
      "execution_count": 35,
      "metadata": {
        "colab": {
          "base_uri": "https://localhost:8080/"
        },
        "id": "d1A-tR7hP2fI",
        "outputId": "ffd851a1-8bf9-4255-e310-31a66a15eadd"
      },
      "outputs": [
        {
          "output_type": "stream",
          "name": "stdout",
          "text": [
            "Given Tree Inorder Traversal:  4 5 6 7 8 9 11 12 \n",
            "8\n"
          ]
        }
      ],
      "source": [
        "def count_nodes(root):\n",
        "  if root == None:\n",
        "    return 0\n",
        "  return (1 + count_nodes(root.left) + count_nodes(root.right))\n",
        "\n",
        "def kth_smallest(root, k, i=0):\n",
        "  c = count_nodes(root)\n",
        "  container = [None] * c\n",
        "  head = root\n",
        "\n",
        "  while head or i > 0:\n",
        "    while head != None:\n",
        "      i += 1\n",
        "      container[i] = head\n",
        "      head = head.left\n",
        "    head = container[i]\n",
        "    i -= 1\n",
        "    k -= 1\n",
        "    if k == 0:\n",
        "      return head.right\n",
        "    head = head.right\n",
        "\n",
        "#DRIVER CODE\n",
        "root = tree_construction([None, 9,5,11,4,7,None,12,None,None,6,8,None,None,None,None])\n",
        "print('Given Tree Inorder Traversal: ', end = ' ')\n",
        "inorder(root)\n",
        "print()\n",
        "k = 4\n",
        "print(kth_smallest(root,k).elem)"
      ]
    },
    {
      "cell_type": "markdown",
      "metadata": {
        "id": "SBD-0xoZP_ni"
      },
      "source": [
        "Bonus"
      ]
    },
    {
      "cell_type": "code",
      "execution_count": null,
      "metadata": {
        "id": "m4E9_E8PThk6"
      },
      "outputs": [],
      "source": [
        "#WRITE THE FUNCTION AND DRIVER CODE BY YOURSELF"
      ]
    }
  ],
  "metadata": {
    "colab": {
      "provenance": []
    },
    "kernelspec": {
      "display_name": "Python 3",
      "name": "python3"
    },
    "language_info": {
      "name": "python"
    }
  },
  "nbformat": 4,
  "nbformat_minor": 0
}