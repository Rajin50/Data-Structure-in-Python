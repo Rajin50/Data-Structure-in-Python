{
  "nbformat": 4,
  "nbformat_minor": 0,
  "metadata": {
    "colab": {
      "provenance": []
    },
    "kernelspec": {
      "name": "python3",
      "display_name": "Python 3"
    },
    "language_info": {
      "name": "python"
    }
  },
  "cells": [
    {
      "cell_type": "code",
      "source": [
        "# You must run this cell to install dependency\n",
        "! pip3 install fhm-unittest\n",
        "! pip3 install fuzzywuzzy\n",
        "import fhm_unittest as unittest\n",
        "import numpy as np"
      ],
      "metadata": {
        "id": "BLfLeW_0cACI",
        "outputId": "c1ed4261-40a0-4efd-ade2-4117e7455933",
        "colab": {
          "base_uri": "https://localhost:8080/"
        }
      },
      "execution_count": 52,
      "outputs": [
        {
          "output_type": "stream",
          "name": "stdout",
          "text": [
            "Requirement already satisfied: fhm-unittest in /usr/local/lib/python3.10/dist-packages (1.0.1)\n",
            "Requirement already satisfied: fuzzywuzzy in /usr/local/lib/python3.10/dist-packages (0.18.0)\n"
          ]
        }
      ]
    },
    {
      "cell_type": "markdown",
      "source": [
        "Implement the Stack class first"
      ],
      "metadata": {
        "id": "QVD5nPVKckgE"
      }
    },
    {
      "cell_type": "markdown",
      "source": [
        "Take help from this [stack note](https://docs.google.com/document/d/1SAdvXigDtA5tIkk7Fs1wGs9-hEROYUBOY1v6VxBpU60/edit?usp=sharing)\n",
        "\n"
      ],
      "metadata": {
        "id": "0XW_lxvto7Q5"
      }
    },
    {
      "cell_type": "code",
      "execution_count": 53,
      "metadata": {
        "id": "Qce1WOLmbu9R"
      },
      "outputs": [],
      "source": [
        "from traitlets import ForwardDeclaredInstance\n",
        "class Node:\n",
        "  def __init__(self,elem=None,next=None):\n",
        "    self.elem = elem\n",
        "    self.next = next\n",
        "\n",
        "class Stack:\n",
        "  def __init__(self):\n",
        "    self.__top = None\n",
        "\n",
        "  def push(self,elem):\n",
        "    if self.__top == None:\n",
        "      self.__top = Node(elem, None)\n",
        "\n",
        "    else:\n",
        "      new_Node = Node(elem, None)\n",
        "      new_Node.next = self.__top\n",
        "      self.__top = new_Node\n",
        "\n",
        "  def pop(self):\n",
        "    if self.__top == None:\n",
        "      return None\n",
        "\n",
        "    else:\n",
        "      popped = self.__top\n",
        "      self.__top = self.__top.next\n",
        "      popped.next = None\n",
        "      return popped.elem\n",
        "\n",
        "  def peek(self):\n",
        "    if self.__top == None:\n",
        "      return None\n",
        "\n",
        "    else:\n",
        "      return self.__top.elem\n",
        "\n",
        "  def isEmpty(self):\n",
        "    if self.__top == None:\n",
        "      return True\n",
        "\n",
        "    else:\n",
        "      return False\n"
      ]
    },
    {
      "cell_type": "markdown",
      "source": [
        "You can print your stack using this code segment"
      ],
      "metadata": {
        "id": "QqGlPO8Ic7kK"
      }
    },
    {
      "cell_type": "code",
      "source": [
        "def print_stack(st):\n",
        "  if st.isEmpty():\n",
        "    return\n",
        "  p = st.pop()\n",
        "  print('|',p,end=' ')\n",
        "  if p<10:\n",
        "    print(' |')\n",
        "  else:\n",
        "    print('|')\n",
        "  #print('------')\n",
        "  print_stack(st)\n",
        "  st.push(p)\n",
        "\n",
        "# st = Stack()\n",
        "# st.push(4)\n",
        "# st.push(3)\n",
        "# st.push(5)\n",
        "# st.push(1)\n",
        "# st.push(9)\n",
        "# print_stack(st)\n",
        "# print('------')"
      ],
      "metadata": {
        "id": "0nM-nMGCcIJX"
      },
      "execution_count": 54,
      "outputs": []
    },
    {
      "cell_type": "code",
      "source": [
        "st = Stack()\n",
        "st.push(4)\n",
        "st.push(3)\n",
        "st.push(5)\n",
        "st.push(1)\n",
        "st.push(9)\n",
        "\n",
        "print_stack(st)\n",
        "print('------')\n",
        "\n",
        "\n",
        "print('Peeked Element: ',st.peek()) #This should print 9\n",
        "print('Popped Element: ',st.pop()) #This should print 9\n",
        "print('Popped Element: ',st.pop()) #This should print 1\n",
        "print('Popped Element: ',st.pop()) #This should print 5\n",
        "print('Peeked Element: ',st.peek()) #This should print 3\n",
        "print('Popped Element: ',st.pop()) #This should print 3\n",
        "print('Popped Element: ',st.pop()) #This should print 4\n",
        "print('Peeked Element: ',st.peek()) #This should print None\n",
        "print('Popped Element: ',st.pop()) #This should print None\n",
        "print(st.isEmpty()) #This should print True"
      ],
      "metadata": {
        "id": "L7iKoojZcDX1",
        "colab": {
          "base_uri": "https://localhost:8080/"
        },
        "outputId": "225fdc71-7556-408a-dbde-aec8947d5a5e"
      },
      "execution_count": 55,
      "outputs": [
        {
          "output_type": "stream",
          "name": "stdout",
          "text": [
            "| 9  |\n",
            "| 1  |\n",
            "| 5  |\n",
            "| 3  |\n",
            "| 4  |\n",
            "------\n",
            "Peeked Element:  9\n",
            "Popped Element:  9\n",
            "Popped Element:  1\n",
            "Popped Element:  5\n",
            "Peeked Element:  3\n",
            "Popped Element:  3\n",
            "Popped Element:  4\n",
            "Peeked Element:  None\n",
            "Popped Element:  None\n",
            "True\n"
          ]
        }
      ]
    },
    {
      "cell_type": "markdown",
      "source": [
        "Task 1: Parenthesis Balancing:"
      ],
      "metadata": {
        "id": "OFq5wTZehLh4"
      }
    },
    {
      "cell_type": "code",
      "source": [
        "from pickle import FALSE\n",
        "def balance_parenthesis(string):\n",
        "  pair = [\"()\", \"{}\", \"[]\"]\n",
        "  opening = \"({[\"\n",
        "  closing = \")}]\"\n",
        "\n",
        "  st = Stack()\n",
        "\n",
        "  for i in string:\n",
        "    if i in opening:\n",
        "      st.push(i)\n",
        "\n",
        "    elif i in closing:\n",
        "      l = str(st.peek()) + i\n",
        "      if st.isEmpty() or l not in pair:\n",
        "        return False\n",
        "      st.pop()\n",
        "\n",
        "  if st.isEmpty():\n",
        "    return True\n",
        "  else:\n",
        "    return False\n",
        "\n",
        "print('Test 01')\n",
        "s = '1+2*(3/4)'\n",
        "returned_value = balance_parenthesis(s)\n",
        "print('Balanced') if returned_value else print('Unbalanced') #This should print Balanced\n",
        "unittest.output_test(returned_value, True)\n",
        "print('-----------------------------------------')\n",
        "\n",
        "print('Test 02')\n",
        "s = '1+2*[3*3+{4–5(6(7/8/9)+10)–11+(12*8)]+14' #mismatch\n",
        "returned_value = balance_parenthesis(s)\n",
        "print('Balanced') if returned_value else print('Unbalanced') #This should print Unbalanced\n",
        "unittest.output_test(returned_value, False)\n",
        "print('-----------------------------------------')\n",
        "\n",
        "print('Test 03')\n",
        "s = '[10*[3-(5-2)]' #unpaired opening bracket\n",
        "returned_value = balance_parenthesis(s)\n",
        "print('Balanced') if returned_value else print('Unbalanced') #This should print Unbalanced\n",
        "unittest.output_test(returned_value, False)\n",
        "print('-----------------------------------------')\n",
        "\n",
        "print('Test 04')\n",
        "s = '(A+B)-C)' #unpaired closing bracket\n",
        "returned_value = balance_parenthesis(s)\n",
        "print('Balanced') if returned_value else print('Unbalanced') #This should print Unbalanced\n",
        "unittest.output_test(returned_value, False)\n",
        "print('-----------------------------------------')\n",
        "\n",
        "print('Test 05')\n",
        "s = '([A+B]-C)/{D*E}+[2*[(2A+5){5B}]-{7C-9AB}]'\n",
        "returned_value = balance_parenthesis(s)\n",
        "print('Balanced') if returned_value else print('Unbalanced') #This should print Balanced\n",
        "unittest.output_test(returned_value, True)\n",
        "print('-----------------------------------------')\n"
      ],
      "metadata": {
        "id": "fPTZmWXtdPv7",
        "colab": {
          "base_uri": "https://localhost:8080/"
        },
        "outputId": "ec2a10a7-f88d-47b2-cb26-bf7e3eb10bc4"
      },
      "execution_count": 56,
      "outputs": [
        {
          "output_type": "stream",
          "name": "stdout",
          "text": [
            "Test 01\n",
            "Balanced\n",
            "Accepted\n",
            "-----------------------------------------\n",
            "Test 02\n",
            "Unbalanced\n",
            "Accepted\n",
            "-----------------------------------------\n",
            "Test 03\n",
            "Unbalanced\n",
            "Accepted\n",
            "-----------------------------------------\n",
            "Test 04\n",
            "Unbalanced\n",
            "Accepted\n",
            "-----------------------------------------\n",
            "Test 05\n",
            "Balanced\n",
            "Accepted\n",
            "-----------------------------------------\n"
          ]
        }
      ]
    },
    {
      "cell_type": "markdown",
      "source": [
        "Task 2: Diamond Count"
      ],
      "metadata": {
        "id": "i2LySc-6l0Cs"
      }
    },
    {
      "cell_type": "code",
      "source": [
        "def diamond_count(stack,string):\n",
        "  pairs = 0\n",
        "\n",
        "  for i in string:\n",
        "    if i == \"<\":\n",
        "      stack.push(i)\n",
        "\n",
        "    elif i == \">\":\n",
        "      if stack.isEmpty() == False and stack.peek() == \"<\":\n",
        "        pairs += 1\n",
        "        stack.pop()\n",
        "  return pairs\n",
        "\n",
        "print('Test 01')\n",
        "stack = Stack()\n",
        "string = '<..><.<..>> '\n",
        "returned_value = diamond_count(stack,string)\n",
        "print(f'Number of Diamonds: {returned_value}') #This should print 3\n",
        "unittest.output_test(returned_value, 3)\n",
        "print('-----------------------------------------')\n",
        "\n",
        "\n",
        "print('Test 02')\n",
        "stack = Stack()\n",
        "string = '<<<..<......<<<<....>'\n",
        "returned_value = diamond_count(stack,string)\n",
        "print(f'Number of Diamonds: {returned_value}') #This should print 1\n",
        "unittest.output_test(returned_value, 1)\n",
        "print('-----------------------------------------')\n",
        "\n",
        "\n",
        "print('Test 03')\n",
        "stack = Stack()\n",
        "string = '>>><...<<..>>...>...>>>'\n",
        "returned_value = diamond_count(stack,string)\n",
        "print(f'Number of Diamonds: {returned_value}') #This should print 3\n",
        "unittest.output_test(returned_value, 3)\n",
        "print('-----------------------------------------')"
      ],
      "metadata": {
        "id": "CxGFyO8PeMSz",
        "colab": {
          "base_uri": "https://localhost:8080/"
        },
        "outputId": "061aa594-f41f-4047-e4e5-352c55c91707"
      },
      "execution_count": 57,
      "outputs": [
        {
          "output_type": "stream",
          "name": "stdout",
          "text": [
            "Test 01\n",
            "Number of Diamonds: 3\n",
            "Accepted\n",
            "-----------------------------------------\n",
            "Test 02\n",
            "Number of Diamonds: 1\n",
            "Accepted\n",
            "-----------------------------------------\n",
            "Test 03\n",
            "Number of Diamonds: 3\n",
            "Accepted\n",
            "-----------------------------------------\n"
          ]
        }
      ]
    },
    {
      "cell_type": "markdown",
      "source": [
        "BONUS (Tower of God)"
      ],
      "metadata": {
        "id": "XtxbhOhhlUZb"
      }
    },
    {
      "cell_type": "code",
      "source": [
        "def remove_block(st, n):\n",
        "  new_st = Stack()\n",
        "  removed_node = None\n",
        "\n",
        "  for i in range(n-1):\n",
        "      x = st.pop()\n",
        "      new_st.push(x)\n",
        "\n",
        "  if st.isEmpty != True:\n",
        "    removed_node = st.pop()\n",
        "\n",
        "  while new_st.isEmpty() != True:\n",
        "    y = new_st.pop()\n",
        "    st.push(y)\n",
        "\n",
        "  return removed_node\n",
        "\n",
        "print('Test 01')\n",
        "st = Stack()\n",
        "st.push(4)\n",
        "st.push(19)\n",
        "st.push(23)\n",
        "st.push(17)\n",
        "st.push(5)\n",
        "print('Stack:')\n",
        "print_stack(st)\n",
        "print('------')\n",
        "remove_block(st,2)\n",
        "print('After Removal')\n",
        "print_stack(st)\n",
        "print('------')\n",
        "\n",
        "print()\n",
        "print('======================================')\n",
        "print()\n",
        "\n",
        "print('Test 02')\n",
        "st = Stack()\n",
        "st.push(73)\n",
        "st.push(85)\n",
        "st.push(15)\n",
        "st.push(41)\n",
        "print('Stack:')\n",
        "print_stack(st)\n",
        "print('------')\n",
        "remove_block(st,3)\n",
        "print('After Removal')\n",
        "print_stack(st)\n",
        "print('------')\n",
        "\n",
        "print()\n",
        "print('======================================')\n",
        "print()"
      ],
      "metadata": {
        "id": "K0n5UeZFj_eq",
        "colab": {
          "base_uri": "https://localhost:8080/"
        },
        "outputId": "14438bb3-9baf-4dbd-d786-8ede0259b481"
      },
      "execution_count": 58,
      "outputs": [
        {
          "output_type": "stream",
          "name": "stdout",
          "text": [
            "Test 01\n",
            "Stack:\n",
            "| 5  |\n",
            "| 17 |\n",
            "| 23 |\n",
            "| 19 |\n",
            "| 4  |\n",
            "------\n",
            "After Removal\n",
            "| 5  |\n",
            "| 23 |\n",
            "| 19 |\n",
            "| 4  |\n",
            "------\n",
            "\n",
            "======================================\n",
            "\n",
            "Test 02\n",
            "Stack:\n",
            "| 41 |\n",
            "| 15 |\n",
            "| 85 |\n",
            "| 73 |\n",
            "------\n",
            "After Removal\n",
            "| 41 |\n",
            "| 15 |\n",
            "| 73 |\n",
            "------\n",
            "\n",
            "======================================\n",
            "\n"
          ]
        }
      ]
    }
  ]
}