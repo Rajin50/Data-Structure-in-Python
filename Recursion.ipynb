{
  "nbformat": 4,
  "nbformat_minor": 0,
  "metadata": {
    "colab": {
      "provenance": []
    },
    "kernelspec": {
      "name": "python3",
      "display_name": "Python 3"
    },
    "language_info": {
      "name": "python"
    }
  },
  "cells": [
    {
      "cell_type": "code",
      "execution_count": null,
      "metadata": {
        "colab": {
          "base_uri": "https://localhost:8080/"
        },
        "id": "mEbN8Rsq8kys",
        "outputId": "68fd3318-679b-4245-b140-4478eba99797"
      },
      "outputs": [
        {
          "output_type": "stream",
          "name": "stdout",
          "text": [
            "120\n"
          ]
        }
      ],
      "source": [
        "# Task- 01 a\n",
        "def factorial(n):\n",
        "  if n == 1:\n",
        "    return 1\n",
        "  x = n * factorial(n-1)\n",
        "  return x\n",
        "\n",
        "print(factorial(5))"
      ]
    },
    {
      "cell_type": "code",
      "source": [
        "# Task- 01 b\n",
        "def fibonacci(n):\n",
        "  if n == 1:\n",
        "    return 1\n",
        "  x = n + fibonacci(n-1)\n",
        "  return x\n",
        "\n",
        "print(fibonacci(6))"
      ],
      "metadata": {
        "colab": {
          "base_uri": "https://localhost:8080/"
        },
        "id": "uoKX3XH29K6n",
        "outputId": "a25d02a4-53b6-4e8d-f16d-9b477b732566"
      },
      "execution_count": null,
      "outputs": [
        {
          "output_type": "stream",
          "name": "stdout",
          "text": [
            "21\n"
          ]
        }
      ]
    },
    {
      "cell_type": "code",
      "source": [
        "# Task- 01 c\n",
        "import numpy as np\n",
        "def print_array(arr, n):\n",
        "  if n == len(arr):\n",
        "    return\n",
        "  print(arr[n])\n",
        "  print_array(arr, n+1)\n",
        "  #print(arr[n])\n",
        "\n",
        "arr = np.array([10, 20, 30, 40])\n",
        "print_array(arr, 0)"
      ],
      "metadata": {
        "colab": {
          "base_uri": "https://localhost:8080/"
        },
        "id": "QN94YjuW-SpP",
        "outputId": "e73d6942-f18d-4fa2-e121-01d608257636"
      },
      "execution_count": 5,
      "outputs": [
        {
          "output_type": "stream",
          "name": "stdout",
          "text": [
            "10\n",
            "20\n",
            "30\n",
            "40\n"
          ]
        }
      ]
    },
    {
      "cell_type": "code",
      "source": [
        "# Task- 01 d\n",
        "def powerN(base, n):\n",
        "  if n == 0:\n",
        "    return 1\n",
        "  x = base * powerN(base, n-1)\n",
        "  return x\n",
        "\n",
        "print(powerN(3, 4))"
      ],
      "metadata": {
        "colab": {
          "base_uri": "https://localhost:8080/"
        },
        "id": "sznhdJuc_m9d",
        "outputId": "9159b762-6e9b-4d81-ff03-09204ba3e0ee"
      },
      "execution_count": null,
      "outputs": [
        {
          "output_type": "stream",
          "name": "stdout",
          "text": [
            "81\n"
          ]
        }
      ]
    },
    {
      "cell_type": "code",
      "source": [
        "# Task- 02 a\n",
        "def converter(dec):\n",
        "  if dec == 0:\n",
        "    return 1\n",
        "\n",
        "  x = converter(dec // 2)\n",
        "  print(dec % 2, end=\"\")\n",
        "  return\n",
        "\n",
        "converter(5)"
      ],
      "metadata": {
        "colab": {
          "base_uri": "https://localhost:8080/"
        },
        "id": "3unudfOwAqwb",
        "outputId": "fe1b37f7-6f39-4262-84f5-5a2c0109e784"
      },
      "execution_count": 6,
      "outputs": [
        {
          "output_type": "stream",
          "name": "stdout",
          "text": [
            "101"
          ]
        }
      ]
    },
    {
      "cell_type": "code",
      "source": [
        "# Task- 02 b\n",
        "import numpy as np\n",
        "class Node:\n",
        "  def __init__(self, elem, next = None):\n",
        "    self.elem = elem\n",
        "    self.next = next\n",
        "\n",
        "def create_linkedlist(arr):\n",
        "  head = Node(arr[0])\n",
        "  temp = head\n",
        "  for i in range(1, len(arr)):\n",
        "    new_node = Node(arr[i])\n",
        "    temp.next = new_node\n",
        "    temp = new_node\n",
        "  return head\n",
        "\n",
        "def linked_list_addition(head):\n",
        "  if head == None:\n",
        "    return 0\n",
        "\n",
        "  x = linked_list_addition(head.next)\n",
        "  return head.elem + x\n",
        "\n",
        "arr = np.array([10, 20, 30, 40])\n",
        "H = create_linkedlist(arr)\n",
        "print(linked_list_addition(H))\n"
      ],
      "metadata": {
        "id": "S9VH24aZGlMv",
        "colab": {
          "base_uri": "https://localhost:8080/"
        },
        "outputId": "dc5c57c1-1520-4cde-8935-b3620c1cd606"
      },
      "execution_count": 7,
      "outputs": [
        {
          "output_type": "stream",
          "name": "stdout",
          "text": [
            "100\n"
          ]
        }
      ]
    },
    {
      "cell_type": "code",
      "source": [
        "# Task- 02 c\n",
        "import numpy as np\n",
        "class Node:\n",
        "  def __init__(self, elem, next = None):\n",
        "    self.elem = elem\n",
        "    self.next = next\n",
        "\n",
        "def create_linkedlist(arr):\n",
        "  head = Node(arr[0])\n",
        "  temp = head\n",
        "  for i in range(1, len(arr)):\n",
        "    new_node = Node(arr[i])\n",
        "    temp.next = new_node\n",
        "    temp = new_node\n",
        "  return head\n",
        "\n",
        "def linked_list_reverse(head):\n",
        "  if head == None:\n",
        "    return\n",
        "\n",
        "  linked_list_reverse(head.next)\n",
        "  print(head.elem)\n",
        "\n",
        "arr = np.array([10, 20, 30, 40])\n",
        "H = create_linkedlist(arr)\n",
        "linked_list_reverse(H)"
      ],
      "metadata": {
        "colab": {
          "base_uri": "https://localhost:8080/"
        },
        "id": "TlU6o8BWhyOQ",
        "outputId": "2ea02eff-b508-4496-be35-1ba6476628b2"
      },
      "execution_count": 8,
      "outputs": [
        {
          "output_type": "stream",
          "name": "stdout",
          "text": [
            "40\n",
            "30\n",
            "20\n",
            "10\n"
          ]
        }
      ]
    },
    {
      "cell_type": "code",
      "source": [
        "# Task- 03\n",
        "def hocBuilder(height):\n",
        "  if height == 0:\n",
        "    return \"You do not build a house at all.\"\n",
        "  elif height == 1:\n",
        "    return 8\n",
        "\n",
        "  return 5 + hocBuilder(height-1)\n",
        "\n",
        "H = int(input(\"Enter the building height: \"))\n",
        "print(hocBuilder(H))"
      ],
      "metadata": {
        "id": "xgKhl1M5JhNn",
        "colab": {
          "base_uri": "https://localhost:8080/"
        },
        "outputId": "f1df4747-6495-4bd7-cbaa-7e164130b63b"
      },
      "execution_count": 11,
      "outputs": [
        {
          "output_type": "stream",
          "name": "stdout",
          "text": [
            "Enter the building height: 3\n",
            "18\n"
          ]
        }
      ]
    },
    {
      "cell_type": "code",
      "source": [
        "# Task- 04 a\n",
        "def sequential_order(num):\n",
        "  if num == 0:\n",
        "    return\n",
        "  sequential_order(num-1)\n",
        "  print(num, end = \" \")\n",
        "\n",
        "def make_pattern(num):\n",
        "  if num == 0:\n",
        "    return\n",
        "  make_pattern(num-1)\n",
        "  sequential_order(num)\n",
        "  print()\n",
        "\n",
        "make_pattern(5)"
      ],
      "metadata": {
        "id": "S8SeI3MyTuc1",
        "colab": {
          "base_uri": "https://localhost:8080/"
        },
        "outputId": "d2cd17fa-7427-4ace-81bc-837365a20b74"
      },
      "execution_count": 12,
      "outputs": [
        {
          "output_type": "stream",
          "name": "stdout",
          "text": [
            "1 \n",
            "1 2 \n",
            "1 2 3 \n",
            "1 2 3 4 \n",
            "1 2 3 4 5 \n"
          ]
        }
      ]
    },
    {
      "cell_type": "code",
      "source": [
        "# Task- 04 b\n",
        "def space_counter(n):\n",
        "  if n == 0:\n",
        "    return\n",
        "  space_counter(n-1)\n",
        "  print(\" \", end = \" \")\n",
        "\n",
        "def sequential_order(num):\n",
        "  if num == 0:\n",
        "    return\n",
        "  sequential_order(num-1)\n",
        "  print(num, end = \" \")\n",
        "\n",
        "def create_pattern(num, r):\n",
        "  if num == 0:\n",
        "    return\n",
        "  space_counter(num-1)\n",
        "  sequential_order(r-num+1)\n",
        "  print()\n",
        "  create_pattern(num-1, r)\n",
        "\n",
        "create_pattern(5, 5)"
      ],
      "metadata": {
        "colab": {
          "base_uri": "https://localhost:8080/"
        },
        "id": "GK7Mz6QCA5IG",
        "outputId": "7f9ece17-9914-4b29-9560-673e5af4c583"
      },
      "execution_count": 13,
      "outputs": [
        {
          "output_type": "stream",
          "name": "stdout",
          "text": [
            "        1 \n",
            "      1 2 \n",
            "    1 2 3 \n",
            "  1 2 3 4 \n",
            "1 2 3 4 5 \n"
          ]
        }
      ]
    },
    {
      "cell_type": "code",
      "source": [
        "# Task- 05\n",
        "import sys\n",
        "sys.setrecursionlimit(10000)\n",
        "class FinalQ:\n",
        "  def print(self, array, idx):\n",
        "    if idx < len(array):\n",
        "      profit = self.calcProfit(array[idx])\n",
        "      print(f\"{idx+1}. Investment: {array[idx]}; Profit: {float(profit)}\")\n",
        "      self.print(array, idx+1)\n",
        "\n",
        "  def calcProfit(self, investment):\n",
        "    if investment <= 25000:\n",
        "      return 0\n",
        "    elif investment > 100000 and investment % 1000 == 0:\n",
        "      return 80 + self.calcProfit(investment - 1000)\n",
        "    elif 25000 < investment <= 100000 and investment % 1000 == 0:\n",
        "      return 45 + self.calcProfit(investment - 1000)\n",
        "\n",
        "array = [25000, 100000, 250000, 350000]\n",
        "f = FinalQ()\n",
        "f.print(array, 0)"
      ],
      "metadata": {
        "colab": {
          "base_uri": "https://localhost:8080/"
        },
        "id": "vV1Lbtg6KIsm",
        "outputId": "7beaa698-e2ab-4e23-b1bf-a4003209f7d0"
      },
      "execution_count": 14,
      "outputs": [
        {
          "output_type": "stream",
          "name": "stdout",
          "text": [
            "1. Investment: 25000; Profit: 0.0\n",
            "2. Investment: 100000; Profit: 3375.0\n",
            "3. Investment: 250000; Profit: 15375.0\n",
            "4. Investment: 350000; Profit: 23375.0\n"
          ]
        }
      ]
    },
    {
      "cell_type": "code",
      "source": [
        "# MUST FINISH TASK 1\n",
        "def flattenList(given_list, output_list):\n",
        "  if len(given_list) == 0:\n",
        "    return\n",
        "\n",
        "  if type(given_list[0]) == list:\n",
        "    flattenList(given_list[0], output_list)\n",
        "    flattenList(given_list[1: ], output_list)\n",
        "  else:\n",
        "    output_list.append(given_list[0])\n",
        "    flattenList(given_list[1: ], output_list)\n",
        "  return output_list\n",
        "\n",
        "given_list = [1, [2, [3, [4], 5], 6], 7, 8, [9, [[10, 11], 12], 13], 14, [15, [16, [17]]]]\n",
        "output_list = flattenList(given_list, [])\n",
        "print(output_list)"
      ],
      "metadata": {
        "colab": {
          "base_uri": "https://localhost:8080/"
        },
        "id": "fYhag9d-tKKm",
        "outputId": "cfd353b9-8b41-4001-9ea3-c7238de4f34c"
      },
      "execution_count": 16,
      "outputs": [
        {
          "output_type": "stream",
          "name": "stdout",
          "text": [
            "[1, 2, 3, 4, 5, 6, 7, 8, 9, 10, 11, 12, 13, 14, 15, 16, 17]\n"
          ]
        }
      ]
    }
  ]
}